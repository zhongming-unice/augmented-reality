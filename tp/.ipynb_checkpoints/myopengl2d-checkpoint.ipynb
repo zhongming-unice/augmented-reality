{
 "cells": [
  {
   "cell_type": "markdown",
   "metadata": {},
   "source": [
    "Import libraries"
   ]
  },
  {
   "cell_type": "code",
   "execution_count": 1,
   "metadata": {},
   "outputs": [],
   "source": [
    "from OpenGL.GL import *\n",
    "from OpenGL.GLU import *\n",
    "from OpenGL.GLUT import *\n",
    "import numpy as np\n",
    "import sys\n",
    "import time"
   ]
  },
  {
   "cell_type": "markdown",
   "metadata": {},
   "source": [
    "Initializing settings"
   ]
  },
  {
   "cell_type": "code",
   "execution_count": 2,
   "metadata": {},
   "outputs": [],
   "source": [
    "# Some api in the chain is translating the keystrokes to this binary string\n",
    "# so instead of saying: ESCAPE = 27, we use the following.\n",
    "ESCAPE = b'\\x1b'\n",
    "\n",
    "# Number of the glut window.\n",
    "window = 0\n",
    "\n",
    "def init():\n",
    "    # Commands # 1 enable or disable server-side GL capabilities\n",
    "    glEnable(GL_POINT_SMOOTH) # 1.1 draw points with proper filtering ;permet d'arrondir des points\n",
    "    glEnable(GL_LINE_SMOOTH)  # 1.2 draw lines with correct filtering ;\"lisse\" la courbe pour plus de visibilite \n",
    "    glEnable(GL_BLEND)        # 1.3 blend the computed fragment color values with the values in the color buffers ;melange les valeurs de couleurs calcules des fragment avec les valeurs dans le buffer de couleur\n",
    "    glBlendFunc(GL_SRC_ALPHA, GL_ONE_MINUS_SRC_ALPHA) # 1.4  specify pixel arithmetic ;\n",
    "    # Commands # 2\n",
    "    glClearColor(1.0, 1.0, 1.0, 1.0) # 2.1 on color le fond en blanc\n",
    "    gluOrtho2D(-5.0, 5.0, -5.0, 5.0) # 2.2 on cree le repere da la fenetre"
   ]
  },
  {
   "cell_type": "markdown",
   "metadata": {},
   "source": [
    "Function to be plotted"
   ]
  },
  {
   "cell_type": "code",
   "execution_count": 3,
   "metadata": {},
   "outputs": [],
   "source": [
    "def func_x2(input_vec):\n",
    "    vertices = [[x, x*x] for x in input_vec]\n",
    "    return np.array(vertices)"
   ]
  },
  {
   "cell_type": "code",
   "execution_count": 4,
   "metadata": {},
   "outputs": [],
   "source": [
    "def func_sine(input_vec):\n",
    "    vertices =[[x, np.sin(x)] for x in input_vec]\n",
    "    return np.array(vertices)"
   ]
  },
  {
   "cell_type": "code",
   "execution_count": 5,
   "metadata": {},
   "outputs": [],
   "source": [
    "def func_rand_normal(input_vec):\n",
    "    vertices =[[x, np.random.normal(0, 0.1)] for x in input_vec]\n",
    "    return np.array(vertices)"
   ]
  },
  {
   "cell_type": "markdown",
   "metadata": {},
   "source": [
    "Plotting function in OpenGL"
   ]
  },
  {
   "cell_type": "code",
   "execution_count": 6,
   "metadata": {},
   "outputs": [],
   "source": [
    "def plot_func():\n",
    "    \n",
    "    # Commands # 3 \n",
    "    glClear(GL_COLOR_BUFFER_BIT) # 3.1 nettoyer des tampons memoire \n",
    "    glColor3f(0.0, 0.0, 0.0)     # 3.2 definir la coleur noire\n",
    "    glPointSize(3.0)             # 3.3 taille de point \n",
    "    glLineWidth(1.0)             # 3.4 taille de l'epaisseur de la courbe\n",
    "    \n",
    "    # Commands # 4 desoine le repere \n",
    "    glBegin(GL_LINES)\n",
    "    glVertex2f(-5.0, 0.0)\n",
    "    glVertex2f(5.0, 0.0)\n",
    "    glVertex2f(0.0, 5.0)\n",
    "    glVertex2f(0.0, -5.0)\n",
    "    glEnd()\n",
    "\n",
    "    # Set points to plot graphic\n",
    "    vertices=func_x2(np.linspace(-5.0,5.0,101))\n",
    "    vertices2=func_sine(np.linspace(-5.0,5.0,101))\n",
    "    vertices3=func_rand_normal(np.linspace(-5.0,5.0,101))\n",
    "    \n",
    "    # Commands # 5 relie les points en range pour le trace de la courbe \n",
    "    for i in range(len(vertices)-1):\n",
    "        glBegin(GL_LINES)\n",
    "        glColor3f(0.8,0.2,0.2)\n",
    "        glVertex2fv(vertices[i])\n",
    "        glVertex2fv(vertices[i+1])\n",
    "        glEnd()\n",
    "    \n",
    "    # Commands # 6 desoine/color les points \n",
    "    for i in range(len(vertices)):\n",
    "        glBegin(GL_POINTS)\n",
    "        glColor3f(0.1,0.5,0.1)\n",
    "        glVertex2fv(vertices[i])\n",
    "        glEnd()\n",
    "    \n",
    "    # Commands # 5 relie les points en range pour le trace de la courbe \n",
    "    for i in range(len(vertices2)-1):\n",
    "        glBegin(GL_LINES)\n",
    "        glColor3f(0.8,0.2,0.2)\n",
    "        glVertex2fv(vertices2[i])\n",
    "        glVertex2fv(vertices2[i+1])\n",
    "        glEnd()\n",
    "    \n",
    "    # Commands # 6 desoine/color les points \n",
    "    for i in range(len(vertices2)):\n",
    "        glBegin(GL_POINTS)\n",
    "        glColor3f(0.1,0.5,0.1)\n",
    "        glVertex2fv(vertices2[i])\n",
    "        glEnd()\n",
    "        \n",
    "    # Commands # 5 relie les points en range pour le trace de la courbe \n",
    "    for i in range(len(vertices3)-1):\n",
    "        glBegin(GL_LINES)\n",
    "        glColor3f(0.8,0.2,0.2)\n",
    "        glVertex2fv(vertices3[i])\n",
    "        glVertex2fv(vertices3[i+1])\n",
    "        glEnd()\n",
    "    \n",
    "    # Commands # 6 desoine/color les points \n",
    "    for i in range(len(vertices3)):\n",
    "        glBegin(GL_POINTS)\n",
    "        glColor3f(0.1,0.5,0.1)\n",
    "        glVertex2fv(vertices3[i])\n",
    "        glEnd()\n",
    "        \n",
    "    for i in range(-100,100):\n",
    "        glBegin(GL_LINES)\n",
    "        glVertex3f(i,-100, 0.0)\n",
    "        glVertex3f(i, 100.0, 0.0)\n",
    "        glVertex3f(-100, i, 0.0)\n",
    "        glVertex3f(100.0, i, 0.0)\n",
    "        glEnd();\n",
    "        \n",
    "    # Commands # 7 permet d'echanger les valeurs calculees et les valeurs precedentes au fonction mesure\n",
    "    # since this is double buffered, swap the buffers to display what just got drawn.\n",
    "    # time.sleep(...)\n",
    "    glutSwapBuffers()"
   ]
  },
  {
   "cell_type": "markdown",
   "metadata": {},
   "source": [
    "Function that checks if a key has been pressed on the keyboard"
   ]
  },
  {
   "cell_type": "code",
   "execution_count": 7,
   "metadata": {},
   "outputs": [],
   "source": [
    "# The function called whenever a key is pressed. Note the use of Python tuples to pass in: (key, x, y)  \n",
    "def keyPressed(*args):\n",
    "    print(args[0])\n",
    "    # If escape is pressed, kill everything.\n",
    "    if args[0]==ESCAPE:\n",
    "        glutDestroyWindow(window)\n",
    "        sys.exit(0)"
   ]
  },
  {
   "cell_type": "markdown",
   "metadata": {},
   "source": [
    "Main function with initialization, drawing and querying for external inputs (keyboard)"
   ]
  },
  {
   "cell_type": "code",
   "execution_count": 8,
   "metadata": {},
   "outputs": [],
   "source": [
    "def main():\n",
    "    global window\n",
    "    glutInit(())\n",
    "    glutInitDisplayMode(GLUT_SINGLE|GLUT_RGB)\n",
    "    glutInitWindowPosition(50,50)\n",
    "    glutInitWindowSize(500,500)\n",
    "    glutCreateWindow(b\"Function Plotter\")\n",
    "    glutDisplayFunc(plot_func)\n",
    "    # When we are doing nothing, redraw the scene.\n",
    "    glutIdleFunc(plot_func)\n",
    "    # Register the function called when the keyboard is pressed.  \n",
    "    glutKeyboardFunc(keyPressed)\n",
    "    # Initialization\n",
    "    init()\n",
    "    # Main drawing loop\n",
    "    glutMainLoop()"
   ]
  },
  {
   "cell_type": "markdown",
   "metadata": {},
   "source": [
    "Executing main function"
   ]
  },
  {
   "cell_type": "code",
   "execution_count": null,
   "metadata": {
    "scrolled": true
   },
   "outputs": [
    {
     "name": "stdout",
     "output_type": "stream",
     "text": [
      "Hit ESC key to quit.\n"
     ]
    }
   ],
   "source": [
    "# Print message to console, and kick off the main to get it rolling.\n",
    "print(\"Hit ESC key to quit.\")\n",
    "main()"
   ]
  },
  {
   "cell_type": "code",
   "execution_count": null,
   "metadata": {},
   "outputs": [],
   "source": []
  }
 ],
 "metadata": {
  "anaconda-cloud": {},
  "kernelspec": {
   "display_name": "Python 3",
   "language": "python",
   "name": "python3"
  },
  "language_info": {
   "codemirror_mode": {
    "name": "ipython",
    "version": 3
   },
   "file_extension": ".py",
   "mimetype": "text/x-python",
   "name": "python",
   "nbconvert_exporter": "python",
   "pygments_lexer": "ipython3",
   "version": "3.6.5"
  }
 },
 "nbformat": 4,
 "nbformat_minor": 1
}
