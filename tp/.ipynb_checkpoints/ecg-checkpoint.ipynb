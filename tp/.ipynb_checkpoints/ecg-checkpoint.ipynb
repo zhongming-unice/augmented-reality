{
 "cells": [
  {
   "cell_type": "code",
   "execution_count": 5,
   "metadata": {},
   "outputs": [],
   "source": [
    "from OpenGL.GL import *\n",
    "from OpenGL.GLU import *\n",
    "from OpenGL.GLUT import *\n",
    "import collections\n",
    "import numpy as np\n",
    "import sys\n",
    "import time\n",
    "\n",
    "# Some api in the chain is translating the keystrokes to this binary string\n",
    "# so instead of saying: ESCAPE = 27, we use the following.\n",
    "ESCAPE = b'\\x1b'\n",
    "\n",
    "# Number of the glut window.\n",
    "window = 0\n",
    "\n",
    "a = np.loadtxt('ecg.txt')\n",
    "v = [[x, a[x]] for x in range(len(a))]\n",
    "dq = collections.deque(maxlen=1000)\n",
    "index_vertice = 0"
   ]
  },
  {
   "cell_type": "code",
   "execution_count": 6,
   "metadata": {},
   "outputs": [],
   "source": [
    "def init():\n",
    "    # Commands # 1 enable or disable server-side GL capabilities\n",
    "    glEnable(GL_POINT_SMOOTH)  # 1.1 draw points with proper filtering ;permet d'arrondir des points\n",
    "    glEnable(GL_LINE_SMOOTH)  # 1.2 draw lines with correct filtering ;\"lisse\" la courbe pour plus de visibilite\n",
    "    glEnable(\n",
    "        GL_BLEND)  # 1.3 blend the computed fragment color values with the values in the color buffers ;melange les valeurs de couleurs calcules des fragment avec les valeurs dans le buffer de couleur\n",
    "    glBlendFunc(GL_SRC_ALPHA, GL_ONE_MINUS_SRC_ALPHA)  # 1.4  specify pixel arithmetic ;\n",
    "    # Commands # 2\n",
    "    glClearColor(1.0, 1.0, 1.0, 1.0)  # 2.1 on color le fond en blanc\n",
    "    gluOrtho2D(0, 1000, -50, 500)  # 2.2 on cree le repere da la fenetre\n"
   ]
  },
  {
   "cell_type": "code",
   "execution_count": 7,
   "metadata": {},
   "outputs": [],
   "source": [
    "def plot_func():\n",
    "    # Commands # 3\n",
    "    glClear(GL_COLOR_BUFFER_BIT)  # 3.1 nettoyer des tampons memoire\n",
    "    glColor3f(0.0, 0.0, 0.0)  # 3.2 definir la coleur noire\n",
    "    glPointSize(3.0)  # 3.3 taille de point\n",
    "    glLineWidth(1.0)  # 3.4 taille de l'epaisseur de la courbe\n",
    "\n",
    "    # Commands # 4 desoine le repere\n",
    "    glBegin(GL_LINES)\n",
    "    glColor3f(0.2, 0.2, 0.2)\n",
    "    glVertex2f(0.0, 0.0)\n",
    "    glVertex2f(1000.0, 0.0)\n",
    "    glEnd()\n",
    "\n",
    "    # Set points to plot graphic\n",
    "    global index_vertice\n",
    "    v_deque = dq\n",
    "\n",
    "    # My computer screen refresh rate is 59\n",
    "    for i in range(59):\n",
    "        v_deque.append(v[index_vertice])\n",
    "        index_vertice += 1\n",
    "        index_vertice = index_vertice % 15000\n",
    "\n",
    "    # 0 mV corresponding to the value 2047 \n",
    "    vertices = [[x,v_deque[x][1] - 2047] for x in range(index_vertice if (index_vertice<1000) else 1000)]\n",
    "    \n",
    "    # Commands # 5 relie les points en range pour le trace de la courbe\n",
    "    for i in range(len(vertices) - 1):\n",
    "        glBegin(GL_LINES)\n",
    "        glColor3f(0.8, 0.2, 0.2)\n",
    "        glVertex2fv(vertices[i])\n",
    "        glVertex2fv(vertices[i + 1])\n",
    "        glEnd()\n",
    "\n",
    "    glBegin(GL_LINES)\n",
    "    # Light pink(#ffb6c1) = (255/255, 182/255, 193/255) = (1.0, 0.71, 0.76)\n",
    "    glColor3f(1.0, 0.71, 0.76)\n",
    "    for i in range(0,1001,25):\n",
    "        glVertex2i(i, 500)\n",
    "        glVertex2i(i, -50)\n",
    "    for i in range(-50,501,10):\n",
    "        glVertex2i(0, i)\n",
    "        glVertex2i(1000, i)\n",
    "    glEnd()\n",
    "\n",
    "\n",
    "\n",
    "\n",
    "    # Commands # 7 permet d'echanger les valeurs calculees et les valeurs precedentes au fonction mesure\n",
    "    # since this is double buffered, swap the buffers to display what just got drawn.\n",
    "    # time.sleep(...)\n",
    "    glutSwapBuffers()\n"
   ]
  },
  {
   "cell_type": "code",
   "execution_count": 8,
   "metadata": {},
   "outputs": [],
   "source": [
    "# The function called whenever a key is pressed. Note the use of Python tuples to pass in: (key, x, y)  \n",
    "def keyPressed(*args):\n",
    "    print(args[0])\n",
    "    # If escape is pressed, kill everything.\n",
    "    if args[0]==ESCAPE:\n",
    "        glutDestroyWindow(window)\n",
    "        sys.exit(0)"
   ]
  },
  {
   "cell_type": "code",
   "execution_count": 9,
   "metadata": {},
   "outputs": [],
   "source": [
    "def main():\n",
    "    global window\n",
    "    glutInit(())\n",
    "    glutInitDisplayMode(GLUT_SINGLE|GLUT_RGB)\n",
    "    glutInitWindowPosition(50,50)\n",
    "    glutInitWindowSize(500,500)\n",
    "    glutCreateWindow(b\"Function Plotter\")\n",
    "    glutDisplayFunc(plot_func)\n",
    "    # When we are doing nothing, redraw the scene.\n",
    "    glutIdleFunc(plot_func)\n",
    "    # Register the function called when the keyboard is pressed.  \n",
    "    glutKeyboardFunc(keyPressed)\n",
    "    # Initialization\n",
    "    init()\n",
    "    # Main drawing loop\n",
    "    glutMainLoop()"
   ]
  },
  {
   "cell_type": "code",
   "execution_count": null,
   "metadata": {},
   "outputs": [
    {
     "name": "stdout",
     "output_type": "stream",
     "text": [
      "Hit ESC key to quit.\n"
     ]
    }
   ],
   "source": [
    "# Print message to console, and kick off the main to get it rolling.\n",
    "print(\"Hit ESC key to quit.\")\n",
    "main()"
   ]
  },
  {
   "cell_type": "code",
   "execution_count": null,
   "metadata": {},
   "outputs": [],
   "source": []
  }
 ],
 "metadata": {
  "kernelspec": {
   "display_name": "Python 3",
   "language": "python",
   "name": "python3"
  },
  "language_info": {
   "codemirror_mode": {
    "name": "ipython",
    "version": 3
   },
   "file_extension": ".py",
   "mimetype": "text/x-python",
   "name": "python",
   "nbconvert_exporter": "python",
   "pygments_lexer": "ipython3",
   "version": "3.6.5"
  }
 },
 "nbformat": 4,
 "nbformat_minor": 2
}
