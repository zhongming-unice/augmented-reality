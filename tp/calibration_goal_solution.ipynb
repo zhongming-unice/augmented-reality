{
 "cells": [
  {
   "cell_type": "markdown",
   "metadata": {},
   "source": [
    "Importing libraries"
   ]
  },
  {
   "cell_type": "code",
   "execution_count": 1,
   "metadata": {
    "collapsed": false
   },
   "outputs": [],
   "source": [
    "import matplotlib\n",
    "import matplotlib.pyplot as plt\n",
    "import matplotlib.image as mpimg\n",
    "import numpy as np\n",
    "from mpl_toolkits.mplot3d import Axes3D\n",
    "from scipy import linalg\n",
    "\n",
    "import warnings\n",
    "\n",
    "def fxn():\n",
    "    warnings.warn(\"deprecated\", DeprecationWarning)\n",
    "\n",
    "with warnings.catch_warnings():\n",
    "    warnings.simplefilter(\"ignore\")\n",
    "    fxn()"
   ]
  },
  {
   "cell_type": "markdown",
   "metadata": {},
   "source": [
    "Enter dimensions of soccer field"
   ]
  },
  {
   "cell_type": "code",
   "execution_count": 2,
   "metadata": {
    "collapsed": true
   },
   "outputs": [],
   "source": [
    "goal_width=7.32\n",
    "goal_height=2.44\n",
    "goal_area_1=5.5\n",
    "goal_area_2=18.32\n",
    "penalty_area_1=16.5\n",
    "penalty_area_2=40.32\n",
    "corner_arc=1\n",
    "flag_height=1.5\n",
    "field_1=65\n",
    "field_2=105"
   ]
  },
  {
   "cell_type": "markdown",
   "metadata": {},
   "source": [
    "Enter 3D point coordinates - Goal-> Goal area -> Penalty area -> Corners -> Corner radius points -> Flag extremity"
   ]
  },
  {
   "cell_type": "code",
   "execution_count": 3,
   "metadata": {
    "collapsed": false
   },
   "outputs": [],
   "source": [
    "        # Goal\n",
    "u_field=np.array([[goal_width/2,0,0],[goal_width/2,goal_height,0],   \n",
    "        [-goal_width/2,goal_height,0],[goal_width/2,0,0],            \n",
    "        # Goal\n",
    "        [goal_area_2/2,0,0],[goal_area_2/2,0,goal_area_1],           \n",
    "        # Goal area\n",
    "        [-goal_area_2/2,0,goal_area_1],[-goal_area_2/2,0,0],\n",
    "        # Goal area\n",
    "        [penalty_area_2/2,0,0],[penalty_area_2/2,0,penalty_area_1],\n",
    "        # Penalty area\n",
    "        [-penalty_area_2/2,0,penalty_area_1],[-penalty_area_2/2,0,0],\n",
    "        # Penalty area\n",
    "        [field_1/2,0,0],[-field_1/2,0,0], # Corners\n",
    "        [field_1/2-corner_arc,0,0],[-field_1/2+corner_arc,0,0],\n",
    "        # Corner radius x\n",
    "        [field_1/2,0,corner_arc],[-field_1/2,0,corner_arc],\n",
    "        # Corner radius y\n",
    "        [field_1/2,flag_height,0],[-field_1/2,flag_height,0]])\n",
    "        # Flag extremities"
   ]
  },
  {
   "cell_type": "markdown",
   "metadata": {},
   "source": [
    "Keep points that are visible in the image buffer"
   ]
  },
  {
   "cell_type": "code",
   "execution_count": null,
   "metadata": {
    "collapsed": false
   },
   "outputs": [],
   "source": [
    "    # Goal\n",
    "u_w=np.array([[goal_width/2,0,0],[goal_width/2,goal_height,0],\n",
    "    # Goal\n",
    "    [-goal_width/2,goal_height,0],[-goal_width/2,0,0],\n",
    "    # Goal area\n",
    "    [goal_area_2/2,0,0],[goal_area_2/2,0,goal_area_1],\n",
    "    # Goal area\n",
    "    [-goal_area_2/2,0,goal_area_1],[-goal_area_2/2,0,0],\n",
    "    # Penalty area\n",
    "    [-penalty_area_2/2,0,0],\n",
    "    # Corners\n",
    "    [-field_1/2,0,0],\n",
    "    # Corner radius x\n",
    "    [-field_1/2+corner_arc,0,0],\n",
    "    # Corner radius y\n",
    "    [-field_1/2,0,corner_arc],\n",
    "    # Flag extremities\n",
    "    [-field_1/2,flag_height,0]])          \n",
    "\n",
    "# Number of visible points\n",
    "N=np.shape(u_w)[0]\n",
    "# Transformation to homogeneous coordinates\n",
    "u_w= np.vstack((np.transpose(u_w),np.ones(N)))"
   ]
  },
  {
   "cell_type": "markdown",
   "metadata": {},
   "source": [
    "Show 3D cloud of points"
   ]
  },
  {
   "cell_type": "code",
   "execution_count": null,
   "metadata": {
    "collapsed": false
   },
   "outputs": [],
   "source": [
    "#fig = plt.figure()\n",
    "#ax = fig.add_subplot(111, projection='3d')\n",
    "#ax.scatter(u_w[:,0],u_w[:,2],u_w[:,1])\n",
    "#ax.set_xlim(-35, 35)\n",
    "#ax.set_zlim(-1, 60)\n",
    "#ax.set_ylim(-5,65)"
   ]
  },
  {
   "cell_type": "markdown",
   "metadata": {},
   "source": [
    "Get image buffer points manually"
   ]
  },
  {
   "cell_type": "code",
   "execution_count": null,
   "metadata": {
    "collapsed": false
   },
   "outputs": [],
   "source": [
    "img=mpimg.imread('goal.jpg')\n",
    "plt.imshow(img)\n",
    "# Image buffer points from mouse clicks\n",
    "u_im = np.transpose(np.array(plt.ginput(N,timeout=-1))) \n",
    "u_im = np.vstack((u_im,np.ones(N))) \n",
    "plt.close()"
   ]
  },
  {
   "cell_type": "code",
   "execution_count": null,
   "metadata": {
    "collapsed": false
   },
   "outputs": [],
   "source": [
    "print(u_im)"
   ]
  },
  {
   "cell_type": "markdown",
   "metadata": {},
   "source": [
    "Show chosen points"
   ]
  },
  {
   "cell_type": "code",
   "execution_count": null,
   "metadata": {
    "collapsed": false
   },
   "outputs": [],
   "source": [
    "plt.imshow(img)\n",
    "plt.scatter(u_im[0,:],u_im[1,:])\n",
    "plt.show()"
   ]
  },
  {
   "cell_type": "markdown",
   "metadata": {
    "collapsed": true
   },
   "source": [
    "Centering and scaling"
   ]
  },
  {
   "cell_type": "markdown",
   "metadata": {},
   "source": [
    "3D points"
   ]
  },
  {
   "cell_type": "code",
   "execution_count": null,
   "metadata": {
    "collapsed": false
   },
   "outputs": [],
   "source": [
    "s_w    =1./(np.std(u_w,1,keepdims=True)[0:3])# Scaling\n",
    "t_w    =-(np.mean(u_w,1,keepdims=True)[0:3]) # Translation\n",
    "diag_s =np.diag(np.squeeze(s_w))\n",
    "# Stacking scaling and translation\n",
    "T_w    =np.array(np.hstack((diag_s,t_w*s_w)))\n",
    "T_w    =np.vstack((T_w,np.array([0,0,0,1])))\n",
    "print(T_w)"
   ]
  },
  {
   "cell_type": "markdown",
   "metadata": {},
   "source": [
    "Image buffer points"
   ]
  },
  {
   "cell_type": "code",
   "execution_count": null,
   "metadata": {
    "collapsed": false
   },
   "outputs": [],
   "source": [
    "s_im   =1./(np.std(u_im,1,keepdims=True)[0:2]) # Scaling\n",
    "t_im   =-(np.mean(u_im,1,keepdims=True)[0:2])  # Translation\n",
    "diag_s =np.diag(np.squeeze(s_im))\n",
    "# Stacking scaling and translation\n",
    "T_im   =np.array(np.hstack((diag_s,t_im*s_im)))\n",
    "T_im   =np.vstack((T_im,np.array([0,0,1])))\n",
    "print(T_im)"
   ]
  },
  {
   "cell_type": "markdown",
   "metadata": {},
   "source": [
    "Transformed 3D points and buffer points"
   ]
  },
  {
   "cell_type": "code",
   "execution_count": null,
   "metadata": {
    "collapsed": true
   },
   "outputs": [],
   "source": [
    "u_w_t = np.dot(T_w,u_w)   # Transformed 3D points\n",
    "u_im_t= np.dot(T_im,u_im) # Transformed image buffer points"
   ]
  },
  {
   "cell_type": "markdown",
   "metadata": {},
   "source": [
    "Construction of the A matrix for DLT"
   ]
  },
  {
   "cell_type": "code",
   "execution_count": null,
   "metadata": {
    "collapsed": false
   },
   "outputs": [],
   "source": [
    "u_w_i=np.transpose(u_w_t[:,0].reshape(-1,1))\n",
    "A_i_1=np.hstack((np.zeros((1,4)),-u_w_i,u_im_t[1,0]*u_w_i))\n",
    "A_i_2=np.hstack((u_w_i,np.zeros((1,4)),-u_im_t[0,0]*u_w_i))\n",
    "A    = np.vstack((A_i_1,A_i_2))\n",
    "# Stacking matrices for each point correspondence\n",
    "for i in range(1,N):    \n",
    "    u_w_i=np.transpose(u_w_t[:,i].reshape(-1,1))\n",
    "    A_i_1=np.hstack((np.zeros((1,4)),-u_w_i,u_im_t[1,i]*u_w_i))\n",
    "    A_i_2=np.hstack((u_w_i,np.zeros((1,4)),-u_im_t[0,i]*u_w_i))\n",
    "    A    = np.vstack((A,A_i_1,A_i_2))"
   ]
  },
  {
   "cell_type": "markdown",
   "metadata": {},
   "source": [
    "Solution using the SVD"
   ]
  },
  {
   "cell_type": "code",
   "execution_count": null,
   "metadata": {
    "collapsed": false
   },
   "outputs": [],
   "source": [
    "U,S,V = np.linalg.svd(A) # SVD\n",
    "m_t   = V[11,:]          # Last row of V, \n",
    "                         # since python's V is the transpose\n",
    "                         # of the SVD's V "
   ]
  },
  {
   "cell_type": "markdown",
   "metadata": {},
   "source": [
    "Reshape to get M_t"
   ]
  },
  {
   "cell_type": "code",
   "execution_count": null,
   "metadata": {
    "collapsed": false
   },
   "outputs": [],
   "source": [
    "M_t   = m_t.reshape(3,4)"
   ]
  },
  {
   "cell_type": "markdown",
   "metadata": {},
   "source": [
    "Transform to get M"
   ]
  },
  {
   "cell_type": "code",
   "execution_count": null,
   "metadata": {
    "collapsed": false
   },
   "outputs": [],
   "source": [
    "M = np.dot(np.linalg.inv(T_im),np.dot(M_t,T_w))"
   ]
  },
  {
   "cell_type": "markdown",
   "metadata": {},
   "source": [
    "Rescale to get three first elements of third row with unitary norm"
   ]
  },
  {
   "cell_type": "code",
   "execution_count": null,
   "metadata": {
    "collapsed": false
   },
   "outputs": [],
   "source": [
    "M = M/np.linalg.norm(M[2,0:3])\n",
    "print(M)"
   ]
  },
  {
   "cell_type": "markdown",
   "metadata": {},
   "source": [
    "Getting Intrinsic and rotation matrices with RQ decomposition"
   ]
  },
  {
   "cell_type": "code",
   "execution_count": null,
   "metadata": {
    "collapsed": false
   },
   "outputs": [],
   "source": [
    "M_int, R = linalg.rq(M[:,0:3])\n",
    "print(M_int)\n",
    "print(R)"
   ]
  },
  {
   "cell_type": "markdown",
   "metadata": {},
   "source": [
    "Change signs of columns of M_int\n",
    "and corresponding rows of R if necessary"
   ]
  },
  {
   "cell_type": "code",
   "execution_count": null,
   "metadata": {
    "collapsed": false
   },
   "outputs": [],
   "source": [
    "M_int[:,0] = -M_int[:,0]\n",
    "R[0,:] = -R[0,:]\n",
    "M_int[:,2] = -M_int[:,2]\n",
    "R[2,:] = -R[2,:]\n",
    "print(M_int)\n",
    "print(R)"
   ]
  },
  {
   "cell_type": "markdown",
   "metadata": {},
   "source": [
    "Checking determinant of the rotation matrix"
   ]
  },
  {
   "cell_type": "code",
   "execution_count": null,
   "metadata": {
    "collapsed": false
   },
   "outputs": [],
   "source": [
    "print(np.linalg.det(R))"
   ]
  },
  {
   "cell_type": "markdown",
   "metadata": {},
   "source": [
    "Project points on the image buffer using the estimated camera matrix"
   ]
  },
  {
   "cell_type": "code",
   "execution_count": null,
   "metadata": {
    "collapsed": true
   },
   "outputs": [],
   "source": [
    "u_sim=np.dot(M,u_w)\n",
    "u_sim=u_sim/u_sim[2,:]\n",
    "\n",
    "plt.imshow(img)\n",
    "plt.scatter(u_sim[0,:],u_sim[1,:])\n",
    "plt.show()"
   ]
  },
  {
   "cell_type": "markdown",
   "metadata": {},
   "source": [
    "Evaluate translation vector"
   ]
  },
  {
   "cell_type": "code",
   "execution_count": null,
   "metadata": {
    "collapsed": false
   },
   "outputs": [],
   "source": [
    "t=np.linalg.solve(M_int,M[:,3])\n",
    "print(-np.dot(R.T,t))"
   ]
  },
  {
   "cell_type": "code",
   "execution_count": null,
   "metadata": {
    "collapsed": true
   },
   "outputs": [],
   "source": []
  }
 ],
 "metadata": {
  "anaconda-cloud": {},
  "kernelspec": {
   "display_name": "Python [conda root]",
   "language": "python",
   "name": "conda-root-py"
  },
  "language_info": {
   "codemirror_mode": {
    "name": "ipython",
    "version": 3
   },
   "file_extension": ".py",
   "mimetype": "text/x-python",
   "name": "python",
   "nbconvert_exporter": "python",
   "pygments_lexer": "ipython3",
   "version": "3.5.2"
  },
  "toc": {
   "colors": {
    "hover_highlight": "#DAA520",
    "running_highlight": "#FF0000",
    "selected_highlight": "#FFD700"
   },
   "moveMenuLeft": true,
   "nav_menu": {
    "height": "12px",
    "width": "252px"
   },
   "navigate_menu": true,
   "number_sections": true,
   "sideBar": true,
   "threshold": 4,
   "toc_cell": false,
   "toc_section_display": "block",
   "toc_window_display": false,
   "widenNotebook": false
  }
 },
 "nbformat": 4,
 "nbformat_minor": 1
}
