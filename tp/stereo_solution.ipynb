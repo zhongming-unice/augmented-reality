{
 "cells": [
  {
   "cell_type": "markdown",
   "metadata": {},
   "source": [
    "Importing modules"
   ]
  },
  {
   "cell_type": "code",
   "execution_count": null,
   "metadata": {
    "collapsed": false
   },
   "outputs": [],
   "source": [
    "import numpy as np\n",
    "import matplotlib.pyplot as plt"
   ]
  },
  {
   "cell_type": "markdown",
   "metadata": {},
   "source": [
    "Creation of the 3D point coordinate in homogeneous coordinates"
   ]
  },
  {
   "cell_type": "code",
   "execution_count": null,
   "metadata": {
    "collapsed": false
   },
   "outputs": [],
   "source": [
    "u_w=np.array([[3],[1],[-2],[1]])\n",
    "#print(u_w)"
   ]
  },
  {
   "cell_type": "markdown",
   "metadata": {},
   "source": [
    "# First stereo system - Simplified stereo system without noise"
   ]
  },
  {
   "cell_type": "markdown",
   "metadata": {},
   "source": [
    "# Simulation of the projections on the image buffer"
   ]
  },
  {
   "cell_type": "markdown",
   "metadata": {},
   "source": [
    "Internal camera parameters common to the two cameras and their intrinsic matrices"
   ]
  },
  {
   "cell_type": "code",
   "execution_count": null,
   "metadata": {
    "collapsed": false
   },
   "outputs": [],
   "source": [
    "res_x=500\n",
    "res_y=500\n",
    "f_x=50\n",
    "f_y=-50\n",
    "o_x=res_x/2.\n",
    "o_y=res_y/2.\n",
    "# Intrinsic matrix for the left camera\n",
    "M_int_l=np.array([[f_x,0,o_x],[0,f_y,o_y],[0,0,1]],float)\n",
    "# Intrinsic matrix for the right camera\n",
    "M_int_r=M_int_l                                           "
   ]
  },
  {
   "cell_type": "markdown",
   "metadata": {},
   "source": [
    "Baseline and extrinsic matrices (left camera reference coincides with world camera reference)"
   ]
  },
  {
   "cell_type": "code",
   "execution_count": null,
   "metadata": {
    "collapsed": false
   },
   "outputs": [],
   "source": [
    "R_l=np.eye(3)                  # Left camera R matrix\n",
    "t_l=np.zeros((3,1))            # Left camera t vector\n",
    "# Extrinsic matrix of left camera \n",
    "M_ext_l=np.array(np.hstack((R_l,t_l)),dtype=float)   \n",
    "M_ext_l=M_ext_l\n",
    "\n",
    "t_x=0.2                        # Baseline\n",
    "R_r=np.eye(3)                  # Right camera R matrix \n",
    "t_r=np.array([[-t_x],[0],[0]]) # Left camera t vector\n",
    "M_ext_r=np.hstack((R_r,t_r))   # Extrinsic matrix of left camera \n",
    "\n",
    "print(M_ext_r)"
   ]
  },
  {
   "cell_type": "markdown",
   "metadata": {},
   "source": [
    "Camera matrices"
   ]
  },
  {
   "cell_type": "code",
   "execution_count": null,
   "metadata": {
    "collapsed": false
   },
   "outputs": [],
   "source": [
    "M_l=np.dot(M_int_l,M_ext_l)\n",
    "M_r=np.dot(M_int_r,M_ext_r)"
   ]
  },
  {
   "cell_type": "markdown",
   "metadata": {},
   "source": [
    "Projections on the image buffers"
   ]
  },
  {
   "cell_type": "code",
   "execution_count": null,
   "metadata": {
    "collapsed": false
   },
   "outputs": [],
   "source": [
    "# Homogeneous coordinates of projection on left image buffer\n",
    "u_im_l=np.dot(M_l,u_w)\n",
    "# Homogeneous coordinates of projection on right image buffer\n",
    "u_im_r=np.dot(M_r,u_w)\n",
    "# Cartesian coordinates of projection on left image buffer\n",
    "u_im_l_c=(u_im_l/u_im_l[-1])[0:-1]\n",
    "# Cartesian coordinates of projection on left image buffer\n",
    "u_im_r_c=(u_im_r/u_im_r[-1])[0:-1] \n",
    "print(u_im_r_c)\n",
    "print(u_im_l_c)"
   ]
  },
  {
   "cell_type": "markdown",
   "metadata": {},
   "source": [
    "Image buffers"
   ]
  },
  {
   "cell_type": "code",
   "execution_count": null,
   "metadata": {
    "collapsed": false
   },
   "outputs": [],
   "source": [
    "im_L = np.ones((500,500))  # Left image\n",
    "im_L[int(u_im_l_c[0])-5:int(u_im_l_c[0])+5,\n",
    "        int(u_im_l_c[1])-5:int(u_im_l_c[1])+5]=0\n",
    "im_R = np.ones((500,500))  # Right image\n",
    "im_R[int(u_im_r_c[0])-5:int(u_im_r_c[0])+5,\n",
    "        int(u_im_r_c[1])-5:int(u_im_r_c[1])+5]=0\n",
    "\n",
    "plt.figure(1)\n",
    "plt.subplot(121)\n",
    " # Axis seem transposed\n",
    "plt.imshow(np.transpose(im_L), cmap='gray')\n",
    "plt.subplot(122)\n",
    "# Axis seem transposed\n",
    "plt.imshow(np.transpose(im_R), cmap='gray') \n",
    "plt.show()"
   ]
  },
  {
   "cell_type": "markdown",
   "metadata": {},
   "source": [
    "# Retrieving 3D coordinates from disparity on the image buffer"
   ]
  },
  {
   "cell_type": "code",
   "execution_count": null,
   "metadata": {
    "collapsed": false
   },
   "outputs": [],
   "source": [
    "d_im=u_im_l_c[0]-u_im_r_c[0] # Disparity\n",
    "z=(f_x*t_x)/d_im\n",
    "x=(z*(u_im_l_c[0]-o_x)/f_x)\n",
    "y=(z*(u_im_l_c[1]-o_x)/f_y)\n",
    "print(np.array([x,y,z]))"
   ]
  },
  {
   "cell_type": "markdown",
   "metadata": {
    "collapsed": true
   },
   "source": [
    "# Retrieving 3D coordinates using general linear approach"
   ]
  },
  {
   "cell_type": "markdown",
   "metadata": {},
   "source": [
    "Construction of the A matrix"
   ]
  },
  {
   "cell_type": "code",
   "execution_count": null,
   "metadata": {
    "collapsed": false
   },
   "outputs": [],
   "source": [
    "A_1=np.hstack((M_l,-u_im_l,np.zeros((3,1))))\n",
    "A_2=np.hstack((M_r,np.zeros((3,1)),-u_im_r))\n",
    "A  =np.vstack((A_1,A_2))"
   ]
  },
  {
   "cell_type": "markdown",
   "metadata": {},
   "source": [
    "SVD"
   ]
  },
  {
   "cell_type": "code",
   "execution_count": null,
   "metadata": {
    "collapsed": false
   },
   "outputs": [],
   "source": [
    "U,S,V=np.linalg.svd(A)"
   ]
  },
  {
   "cell_type": "markdown",
   "metadata": {},
   "source": [
    "Solution from the SVD"
   ]
  },
  {
   "cell_type": "code",
   "execution_count": null,
   "metadata": {
    "collapsed": false
   },
   "outputs": [],
   "source": [
    "u_w_svd_h =V[5,0:4]   # Solution in homogeneous coordinates\n",
    "u_w_svd_c =(u_w_svd_h/u_w_svd_h[-1])[0:-1]\n",
    "print(u_w_svd_c.reshape(-1,1))"
   ]
  },
  {
   "cell_type": "markdown",
   "metadata": {},
   "source": [
    "# Second stereo system - Simplified stereo system with noise"
   ]
  },
  {
   "cell_type": "markdown",
   "metadata": {
    "collapsed": true
   },
   "source": [
    "Noisy point positions in the image buffer"
   ]
  },
  {
   "cell_type": "code",
   "execution_count": null,
   "metadata": {
    "collapsed": false
   },
   "outputs": [],
   "source": [
    "u_im_l_c=u_im_l_c+0.1*np.random.randn(2,1) # Left image point\n",
    "u_im_r_c=u_im_r_c+0.1*np.random.randn(2,1) # Right image point"
   ]
  },
  {
   "cell_type": "markdown",
   "metadata": {},
   "source": [
    "3D point using general linear approach"
   ]
  },
  {
   "cell_type": "code",
   "execution_count": null,
   "metadata": {
    "collapsed": false
   },
   "outputs": [],
   "source": [
    "u_im_l_h = np.vstack((u_im_l_c,1.))\n",
    "u_im_r_h = np.vstack((u_im_r_c,1.))\n",
    "\n",
    "A_1=np.hstack((M_l,-u_im_l_h,np.zeros((3,1))))\n",
    "A_2=np.hstack((M_r,np.zeros((3,1)),-u_im_r_h))\n",
    "A  =np.vstack((A_1,A_2))\n",
    "U,S,V=np.linalg.svd(A)\n",
    "u_w_svd_h  =V[5,0:4]   # Solution in homogeneous coordinates\n",
    "u_w_svd_c=(u_w_svd_h/u_w_svd_h[-1])[0:-1]\n",
    "print(u_w_svd_c.reshape(-1,1))"
   ]
  },
  {
   "cell_type": "markdown",
   "metadata": {},
   "source": [
    "# Third stereo system - Stereo system with rotated right camera and without noise"
   ]
  },
  {
   "cell_type": "markdown",
   "metadata": {},
   "source": [
    "Baseline and extrinsic matrices (left camera reference coincides with world camera reference)"
   ]
  },
  {
   "cell_type": "code",
   "execution_count": null,
   "metadata": {
    "collapsed": false
   },
   "outputs": [],
   "source": [
    "R_r=np.array([[np.sqrt(2)/2.,-np.sqrt(2)/2.,0],\n",
    "              [np.sqrt(2)/2.,np.sqrt(2)/2.,0],\n",
    "              [0,0,1]])        # Right camera R matrix\n",
    "M_ext_r=np.hstack((R_r,t_r))   # Extrinsic matrix of left camera \n",
    "\n",
    "print(M_ext_r)"
   ]
  },
  {
   "cell_type": "markdown",
   "metadata": {},
   "source": [
    "Camera matrices"
   ]
  },
  {
   "cell_type": "code",
   "execution_count": null,
   "metadata": {
    "collapsed": false
   },
   "outputs": [],
   "source": [
    "M_l=np.dot(M_int_l,M_ext_l)\n",
    "M_r=np.dot(M_int_r,M_ext_r)"
   ]
  },
  {
   "cell_type": "markdown",
   "metadata": {},
   "source": [
    "Projections on the image buffers"
   ]
  },
  {
   "cell_type": "code",
   "execution_count": null,
   "metadata": {
    "collapsed": false
   },
   "outputs": [],
   "source": [
    " # Homogeneous coordinates of projection on left image buffer\n",
    "u_im_l=np.dot(M_l,u_w)\n",
    "# Homogeneous coordinates of projection on right image buffer\n",
    "u_im_r=np.dot(M_r,u_w)\n",
    "# Cartesian coordinates of projection on left image buffer\n",
    "u_im_l_c=(u_im_l/u_im_l[-1])[0:-1]\n",
    "# Cartesian coordinates of projection on left image buffer\n",
    "u_im_r_c=(u_im_r/u_im_r[-1])[0:-1] \n",
    "print(u_im_r_c)"
   ]
  },
  {
   "cell_type": "markdown",
   "metadata": {},
   "source": [
    "Image buffers"
   ]
  },
  {
   "cell_type": "code",
   "execution_count": null,
   "metadata": {
    "collapsed": false
   },
   "outputs": [],
   "source": [
    "im_L = np.ones((500,500))  # Left image\n",
    "im_L[int(u_im_l_c[0])-5:int(u_im_l_c[0])+5,\n",
    "        int(u_im_l_c[1])-5:int(u_im_l_c[1])+5]=0\n",
    "im_R = np.ones((500,500))  # Right image\n",
    "im_R[int(u_im_r_c[0])-5:int(u_im_r_c[0])+5,\n",
    "        int(u_im_r_c[1])-5:int(u_im_r_c[1])+5]=0\n",
    "\n",
    "plt.figure(1)\n",
    "plt.subplot(121)\n",
    "# Axis seem transposed\n",
    "plt.imshow(np.transpose(im_L), cmap='gray') \n",
    "plt.subplot(122)\n",
    "# Axis seem transposed\n",
    "plt.imshow(np.transpose(im_R), cmap='gray') \n",
    "plt.show()"
   ]
  },
  {
   "cell_type": "markdown",
   "metadata": {},
   "source": [
    "3D point using general linear approach"
   ]
  },
  {
   "cell_type": "code",
   "execution_count": null,
   "metadata": {
    "collapsed": false
   },
   "outputs": [],
   "source": [
    "u_im_l_h = np.vstack((u_im_l_c,1.))\n",
    "u_im_r_h = np.vstack((u_im_r_c,1.))\n",
    "\n",
    "A_1=np.hstack((M_l,-u_im_l_h,np.zeros((3,1))))\n",
    "A_2=np.hstack((M_r,np.zeros((3,1)),-u_im_r_h))\n",
    "A  =np.vstack((A_1,A_2))\n",
    "U,S,V=np.linalg.svd(A)\n",
    "# Solution in homogeneous coordinates\n",
    "u_w_svd_h  =V[5,0:4]   \n",
    "u_w_svd_c=(u_w_svd_h/u_w_svd_h[-1])[0:-1]\n",
    "print(u_w_svd_c.reshape(-1,1))"
   ]
  },
  {
   "cell_type": "markdown",
   "metadata": {},
   "source": [
    "# Fourth stereo system - Stereo system with rotated right camera and with noise"
   ]
  },
  {
   "cell_type": "markdown",
   "metadata": {
    "collapsed": true
   },
   "source": [
    "Noisy point positions in the image buffer"
   ]
  },
  {
   "cell_type": "code",
   "execution_count": null,
   "metadata": {
    "collapsed": false
   },
   "outputs": [],
   "source": [
    "u_im_l_c=u_im_l_c+0.1*np.random.randn(2,1) # Left image point\n",
    "u_im_r_c=u_im_r_c+0.1*np.random.randn(2,1) # Right image point"
   ]
  },
  {
   "cell_type": "markdown",
   "metadata": {},
   "source": [
    "3D point using general linear approach"
   ]
  },
  {
   "cell_type": "code",
   "execution_count": null,
   "metadata": {
    "collapsed": false
   },
   "outputs": [],
   "source": [
    "u_im_l_h = np.vstack((u_im_l_c,1.))\n",
    "u_im_r_h = np.vstack((u_im_r_c,1.))\n",
    "\n",
    "A_1=np.hstack((M_l,-u_im_l_h,np.zeros((3,1))))\n",
    "A_2=np.hstack((M_r,np.zeros((3,1)),-u_im_r_h))\n",
    "A  =np.vstack((A_1,A_2))\n",
    "U,S,V=np.linalg.svd(A)\n",
    "u_w_svd_h  =V[5,0:4]   # Solution in homogeneous coordinates\n",
    "u_w_svd_c=(u_w_svd_h/u_w_svd_h[-1])[0:-1]\n",
    "print(u_w_svd_c.reshape(-1,1))"
   ]
  }
 ],
 "metadata": {
  "anaconda-cloud": {},
  "kernelspec": {
   "display_name": "Python [conda root]",
   "language": "python",
   "name": "conda-root-py"
  },
  "language_info": {
   "codemirror_mode": {
    "name": "ipython",
    "version": 3
   },
   "file_extension": ".py",
   "mimetype": "text/x-python",
   "name": "python",
   "nbconvert_exporter": "python",
   "pygments_lexer": "ipython3",
   "version": "3.5.2"
  },
  "toc": {
   "colors": {
    "hover_highlight": "#DAA520",
    "running_highlight": "#FF0000",
    "selected_highlight": "#FFD700"
   },
   "moveMenuLeft": true,
   "nav_menu": {
    "height": "156px",
    "width": "252px"
   },
   "navigate_menu": true,
   "number_sections": true,
   "sideBar": true,
   "threshold": 4,
   "toc_cell": false,
   "toc_section_display": "block",
   "toc_window_display": false,
   "widenNotebook": false
  }
 },
 "nbformat": 4,
 "nbformat_minor": 1
}
