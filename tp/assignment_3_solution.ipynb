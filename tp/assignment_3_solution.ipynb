{
 "cells": [
  {
   "cell_type": "markdown",
   "metadata": {},
   "source": [
    "# Assignment 3"
   ]
  },
  {
   "cell_type": "markdown",
   "metadata": {},
   "source": [
    "Import packages"
   ]
  },
  {
   "cell_type": "code",
   "execution_count": null,
   "metadata": {
    "collapsed": true
   },
   "outputs": [],
   "source": [
    "import numpy as np\n",
    "from matplotlib import pyplot as plt\n",
    "%matplotlib notebook"
   ]
  },
  {
   "cell_type": "markdown",
   "metadata": {},
   "source": [
    "Write 3D cube coordinates"
   ]
  },
  {
   "cell_type": "code",
   "execution_count": null,
   "metadata": {
    "collapsed": false
   },
   "outputs": [],
   "source": [
    "# Write 3D cube coordinates\n",
    "X= np.array([[0,1,1,0,0,1,1,0],\n",
    "             [0,0,1,1,0,0,1,1],\n",
    "             [0,0,0,0,1,1,1,1]])\n",
    "print(X)"
   ]
  },
  {
   "cell_type": "markdown",
   "metadata": {},
   "source": [
    "Transformation matrices in homogeneous coordinates"
   ]
  },
  {
   "cell_type": "code",
   "execution_count": null,
   "metadata": {
    "collapsed": false
   },
   "outputs": [],
   "source": [
    "# Scaling matrix\n",
    "def scaling_matrix(s):\n",
    "    # Scales are given in numpy array s\n",
    "    # s=np.array([s_x,s_y,s_z])\n",
    "    \n",
    "    # Write the scaling matrix here\n",
    "    S = np.identity(4)\n",
    "    S[:3, :3] = np.diag(s)\n",
    "    \n",
    "    return S\n",
    "\n",
    "# Translation matrix\n",
    "def translation_matrix(t):\n",
    "    # Translation vector is given in numpy array t\n",
    "    # t=np.array([t_x,t_y,t_z])\n",
    "    \n",
    "    # Write the translation matrix here\n",
    "    T = np.identity(4)\n",
    "    T[:3, 3] = t\n",
    "    \n",
    "    return T\n",
    "\n",
    "# Rotation matrix\n",
    "def rotation_matrix(theta, v):\n",
    "    # Axis for rotation (unit norm vector) is given \n",
    "    # is given in numpy array v\n",
    "    # v=np.array([v_x,v_y,v_z])\n",
    "    # Rotation angle is given in theta\n",
    "    \n",
    "    # Write the rotation matrix here\n",
    "    st = np.sin(theta)\n",
    "    ct = np.cos(theta)\n",
    "    o_ct = 1-ct\n",
    "    vx2= v[0]**2\n",
    "    vy2= v[1]**2\n",
    "    vz2= v[2]**2\n",
    "    vxy = v[0]*v[1]\n",
    "    vxz = v[0]*v[2]\n",
    "    vyz= v[1]*v[2]\n",
    "    # Rotation\n",
    "    R = [[ct+vx2*o_ct, vxy*o_ct-v[2]*st, vxz*o_ct+v[1]*st],\n",
    "         [vxy*o_ct+v[2]*st, ct+vy2*o_ct, vyz*o_ct-v[0]*st],\n",
    "         [vxz*o_ct-v[1]*st, vyz*o_ct+v[0]*st, ct+vz2*o_ct]]\n",
    "    R_v = np.identity(4)\n",
    "    R_v[:3, :3] = R\n",
    "    \n",
    "    return R_v\n",
    "\n",
    "# Projection function \n",
    "def im_proj(X,K_cw,f,s,o,pix):\n",
    "    \n",
    "    # Number of points\n",
    "    n_points = np.shape(X)\n",
    "    \n",
    "    # Add fourth coordinate to have homogeneous coordinates\n",
    "    X_h = np.vstack((X,np.ones((1,n_points[1]),dtype=np.float)))\n",
    "    \n",
    "    # Write K_wc matrix\n",
    "    K_wc = np.linalg.inv(K_cw)\n",
    "    \n",
    "    # Write K_f times Pi_0 matrix\n",
    "    K_f  = np.identity(3)\n",
    "    K_f[0,0] = f\n",
    "    K_f[1,1] = f\n",
    "    K_f_Pi_0 = np.hstack((K_f,np.zeros((3,1), dtype=float)))\n",
    "    \n",
    "    # Write K_s matrix\n",
    "    K_s = np.identity(3,dtype=float)\n",
    "    K_s[:2,2] = o\n",
    "    K_s[0,0]  = s[0]\n",
    "    K_s[1,1]  = s[1]\n",
    "    K_s[0,1]  = s[2]\n",
    "    \n",
    "    # Write the camera matrix\n",
    "    M = np.dot(K_s,np.dot(K_f_Pi_0,K_wc))\n",
    "    \n",
    "    # Projection in homogeneous coordinates\n",
    "    X_im_h = np.dot(M,X_h)\n",
    "    X_im = X_im_h[:2,:]/X_im_h[2,:]\n",
    "    \n",
    "    # Deleting points outside image buffer\n",
    "    # Negative values\n",
    "    out_buffer_1 = (X_im<0)\n",
    "    # Out of the upper bounds\n",
    "    out_buffer_2 = ((np.tile(np.atleast_2d(pix).T,(1,n_points[1]))-X_im)<0)\n",
    "    # Fusion of the two criteria\n",
    "    out_buffer   =  np.sum(np.vstack((out_buffer_1,out_buffer_2)),axis=0)\n",
    "    # Indexes\n",
    "    ind = np.nonzero(out_buffer)\n",
    "    # Delete\n",
    "    X_im = np.delete(X_im,ind,axis=1)\n",
    "    \n",
    "    # Floor outputs to integers\n",
    "    X_im = X_im.astype(int)\n",
    "    \n",
    "    # Output image buffer\n",
    "    im_buffer = np.zeros((pix[1].astype(int)-1,pix[0].astype(int)-1))\n",
    "    x,y = zip(X_im)\n",
    "    im_buffer[y,x] = 255.0\n",
    "    \n",
    "    return im_buffer, X_im"
   ]
  },
  {
   "cell_type": "markdown",
   "metadata": {},
   "source": [
    "Writing translation and rotation of the camera with \n",
    "respect to world frame"
   ]
  },
  {
   "cell_type": "code",
   "execution_count": null,
   "metadata": {
    "collapsed": false
   },
   "outputs": [],
   "source": [
    "R_cw = rotation_matrix(0.0*np.pi/180.0,np.array([0.0,1.0,0.0]))\n",
    "t_cw = translation_matrix(np.array([0.0,0.0,6.0]))\n",
    "K_cw = np.dot(t_cw,R_cw)"
   ]
  },
  {
   "cell_type": "markdown",
   "metadata": {
    "collapsed": true
   },
   "source": [
    "Write internal parameters of the camera"
   ]
  },
  {
   "cell_type": "code",
   "execution_count": null,
   "metadata": {
    "collapsed": true
   },
   "outputs": [],
   "source": [
    "f = 1\n",
    "s = np.array([600.0,-600.0,0.0])\n",
    "pix = np.array([640.0,480.0])\n",
    "o = pix/2.0"
   ]
  },
  {
   "cell_type": "markdown",
   "metadata": {},
   "source": [
    "Apply image projection to the points"
   ]
  },
  {
   "cell_type": "code",
   "execution_count": null,
   "metadata": {
    "collapsed": false
   },
   "outputs": [],
   "source": [
    "im_buffer, X_im = im_proj(X,K_cw,f,s,o,pix)\n",
    "# print(X_im)\n",
    "plt.imshow(im_buffer,cmap='Greys');"
   ]
  },
  {
   "cell_type": "markdown",
   "metadata": {},
   "source": [
    "Flip matrix to have realistic view"
   ]
  },
  {
   "cell_type": "code",
   "execution_count": null,
   "metadata": {
    "collapsed": false
   },
   "outputs": [],
   "source": [
    "plt.imshow(np.flipud(np.fliplr(im_buffer)),cmap='Greys');"
   ]
  },
  {
   "cell_type": "code",
   "execution_count": null,
   "metadata": {
    "collapsed": true
   },
   "outputs": [],
   "source": []
  }
 ],
 "metadata": {
  "anaconda-cloud": {},
  "kernelspec": {
   "display_name": "Python [conda root]",
   "language": "python",
   "name": "conda-root-py"
  },
  "language_info": {
   "codemirror_mode": {
    "name": "ipython",
    "version": 3
   },
   "file_extension": ".py",
   "mimetype": "text/x-python",
   "name": "python",
   "nbconvert_exporter": "python",
   "pygments_lexer": "ipython3",
   "version": "3.5.2"
  },
  "toc": {
   "colors": {
    "hover_highlight": "#DAA520",
    "running_highlight": "#FF0000",
    "selected_highlight": "#FFD700"
   },
   "moveMenuLeft": true,
   "nav_menu": {
    "height": "12px",
    "width": "252px"
   },
   "navigate_menu": true,
   "number_sections": true,
   "sideBar": true,
   "threshold": 4,
   "toc_cell": false,
   "toc_section_display": "block",
   "toc_window_display": false,
   "widenNotebook": false
  }
 },
 "nbformat": 4,
 "nbformat_minor": 1
}
