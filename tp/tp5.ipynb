{
 "cells": [
  {
   "cell_type": "code",
   "execution_count": 2,
   "metadata": {},
   "outputs": [],
   "source": [
    "import numpy as np\n",
    "import matplotlib.pyplot as plt"
   ]
  },
  {
   "cell_type": "code",
   "execution_count": 27,
   "metadata": {},
   "outputs": [
    {
     "data": {
      "text/plain": [
       "array([[ 1. ,  0. ,  0. , -0.2],\n",
       "       [ 0. ,  1. ,  0. ,  0. ],\n",
       "       [ 0. ,  0. ,  1. ,  0. ]])"
      ]
     },
     "execution_count": 27,
     "metadata": {},
     "output_type": "execute_result"
    }
   ],
   "source": [
    "u_w = np.array([[3],[1],[-2],[1]])\n",
    "M_int_l = np.array([[50,0,250],[0,-50,250],[0,0,1]],float)\n",
    "M_int_r = M_int_l\n",
    "M_ext_l = np.array([[1,0,0,0],[0,1,0,0],[0,0,1,0]],float)\n",
    "t_x = 0.2\n",
    "M_ext_r = np.array([[1,0,0,-t_x],[0,1,0,0],[0,0,1,0]],float)"
   ]
  },
  {
   "cell_type": "code",
   "execution_count": 28,
   "metadata": {},
   "outputs": [],
   "source": [
    "M_l = np.dot(M_int_l,M_ext_l)\n",
    "M_r = np.dot(M_int_r,M_ext_r)"
   ]
  },
  {
   "cell_type": "code",
   "execution_count": 29,
   "metadata": {},
   "outputs": [],
   "source": [
    "u_im_l = np.dot(M_l,u_w)\n",
    "u_im_r = np.dot(M_r,u_w)\n",
    "u_im_l_c = (u_im_l/u_im_l[-1])[0:-1]\n",
    "u_im_r_c = (u_im_r/u_im_r[-1])[0:-1]"
   ]
  },
  {
   "cell_type": "code",
   "execution_count": 38,
   "metadata": {},
   "outputs": [],
   "source": [
    "f_x = 50\n",
    "d_x = u_im_l_c[0] - u_im_r_c[0]\n",
    "z = t_x * f_x / d_x\n",
    "x = z * (u_im_l_c[0]-250) / f_x\n",
    "y = z * (u_im_l_c[1]-250) / -f_x"
   ]
  },
  {
   "cell_type": "code",
   "execution_count": 40,
   "metadata": {},
   "outputs": [
    {
     "name": "stdout",
     "output_type": "stream",
     "text": [
      "[3.] [1.] [-2.]\n"
     ]
    }
   ],
   "source": [
    "print(x,y,z)"
   ]
  },
  {
   "cell_type": "code",
   "execution_count": 68,
   "metadata": {},
   "outputs": [],
   "source": [
    "C_1 = np.hstack((M_l,-u_im_l,np.zeros((3,1))))\n",
    "C_2 = np.hstack((M_r,np.zeros((3,1)),-u_im_r))\n",
    "C = np.vstack((C_1,C_2))"
   ]
  },
  {
   "cell_type": "code",
   "execution_count": 69,
   "metadata": {},
   "outputs": [
    {
     "data": {
      "text/plain": [
       "array([[ 50.,   0., 250.,   0., 350.,   0.],\n",
       "       [  0., -50., 250.,   0., 550.,   0.],\n",
       "       [  0.,   0.,   1.,   0.,   2.,   0.],\n",
       "       [ 50.,   0., 250., -10.,   0., 360.],\n",
       "       [  0., -50., 250.,   0.,   0., 550.],\n",
       "       [  0.,   0.,   1.,   0.,   0.,   2.]])"
      ]
     },
     "execution_count": 69,
     "metadata": {},
     "output_type": "execute_result"
    }
   ],
   "source": [
    "C"
   ]
  },
  {
   "cell_type": "code",
   "execution_count": 70,
   "metadata": {},
   "outputs": [],
   "source": [
    "U,S,V = np.linalg.svd(C)"
   ]
  },
  {
   "cell_type": "code",
   "execution_count": 71,
   "metadata": {},
   "outputs": [],
   "source": [
    "u_w_svd_h = V[5,0:4]\n",
    "u_w_svd_c = (u_w_svd_h/u_w_svd_h[-1])[0:-1]"
   ]
  },
  {
   "cell_type": "code",
   "execution_count": 72,
   "metadata": {},
   "outputs": [
    {
     "data": {
      "text/plain": [
       "array([ 3.,  1., -2.])"
      ]
     },
     "execution_count": 72,
     "metadata": {},
     "output_type": "execute_result"
    }
   ],
   "source": [
    "u_w_svd_c "
   ]
  },
  {
   "cell_type": "code",
   "execution_count": 73,
   "metadata": {},
   "outputs": [],
   "source": [
    "noise = np.random.normal(0, 0.1)"
   ]
  },
  {
   "cell_type": "code",
   "execution_count": null,
   "metadata": {},
   "outputs": [],
   "source": [
    "u_im_l_noise = u_im_l - "
   ]
  }
 ],
 "metadata": {
  "kernelspec": {
   "display_name": "Python 3",
   "language": "python",
   "name": "python3"
  },
  "language_info": {
   "codemirror_mode": {
    "name": "ipython",
    "version": 3
   },
   "file_extension": ".py",
   "mimetype": "text/x-python",
   "name": "python",
   "nbconvert_exporter": "python",
   "pygments_lexer": "ipython3",
   "version": "3.6.5"
  }
 },
 "nbformat": 4,
 "nbformat_minor": 2
}
