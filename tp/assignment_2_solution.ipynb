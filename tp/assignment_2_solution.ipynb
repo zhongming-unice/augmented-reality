{
 "cells": [
  {
   "cell_type": "markdown",
   "metadata": {},
   "source": [
    "# Assignment 2"
   ]
  },
  {
   "cell_type": "markdown",
   "metadata": {},
   "source": [
    "Import packages"
   ]
  },
  {
   "cell_type": "code",
   "execution_count": null,
   "metadata": {
    "collapsed": true
   },
   "outputs": [],
   "source": [
    "#%matplotlib tk\n",
    "% matplotlib notebook\n",
    "import numpy as np\n",
    "from matplotlib import pyplot as plt\n",
    "from mpl_toolkits.mplot3d import Axes3D\n",
    "import matplotlib.animation\n",
    "import pandas as pd"
   ]
  },
  {
   "cell_type": "markdown",
   "metadata": {},
   "source": [
    "Load teapot point cloud coordinates"
   ]
  },
  {
   "cell_type": "code",
   "execution_count": null,
   "metadata": {
    "collapsed": false
   },
   "outputs": [],
   "source": [
    "# Load from text file\n",
    "tp= np.loadtxt('teapot.txt')\n",
    "# Number of points in the cloud\n",
    "n_points = np.shape(tp)\n",
    "# Transpose and add a fourth coordinate with unitary value \n",
    "# (homogeneous coordinates)\n",
    "tp = np.hstack((tp,np.ones((n_points[0],1),dtype=np.float))).T\n",
    "# Save it in a data frame\n",
    "df = pd.DataFrame({\"x\" : tp[0,:], \"y\" :tp[1,:], \"z\" : tp[2,:], \n",
    "                                                \"w\": tp[3,:]})"
   ]
  },
  {
   "cell_type": "markdown",
   "metadata": {},
   "source": [
    "Transformation matrices in homogeneous coordinates"
   ]
  },
  {
   "cell_type": "code",
   "execution_count": null,
   "metadata": {
    "collapsed": true
   },
   "outputs": [],
   "source": [
    "# Scaling matrix\n",
    "def scaling_matrix(s):\n",
    "    # Scales are given in numpy array s\n",
    "    # s=np.array([s_x,s_y,s_z])\n",
    "    \n",
    "    # Write the scaling matrix here\n",
    "    S = np.identity(4)\n",
    "    S[:3, :3] = np.diag(s)\n",
    "    \n",
    "    return S\n",
    "\n",
    "# Translation matrix\n",
    "def translation_matrix(t):\n",
    "    # Translation vector is given in numpy array t\n",
    "    # t=np.array([t_x,t_y,t_z])\n",
    "    \n",
    "    # Write the translation matrix here\n",
    "    T = np.identity(4)\n",
    "    T[:3, 3] = t\n",
    "    \n",
    "    return T\n",
    "\n",
    "# Rotation matrix\n",
    "def rotation_matrix(theta, v):\n",
    "    # Axis for rotation (unit norm vector) is given \n",
    "    # is given in numpy array v\n",
    "    # v=np.array([v_x,v_y,v_z])\n",
    "    # Rotation angle is given in theta\n",
    "    \n",
    "    # Write the rotation matrix here\n",
    "    st = np.sin(theta)\n",
    "    ct = np.cos(theta)\n",
    "    o_ct = 1-ct\n",
    "    vx2= v[0]**2\n",
    "    vy2= v[1]**2\n",
    "    vz2= v[2]**2\n",
    "    vxy = v[0]*v[1]\n",
    "    vxz = v[0]*v[2]\n",
    "    vyz= v[1]*v[2]\n",
    "    # Rotation\n",
    "    R = [[ct+vx2*o_ct, vxy*o_ct-v[2]*st, vxz*o_ct+v[1]*st],\n",
    "         [vxy*o_ct+v[2]*st, ct+vy2*o_ct, vyz*o_ct-v[0]*st],\n",
    "         [vxz*o_ct-v[1]*st, vyz*o_ct+v[0]*st, ct+vz2*o_ct]]\n",
    "    R_v = np.identity(4)\n",
    "    R_v[:3, :3] = R\n",
    "    \n",
    "    return R_v"
   ]
  },
  {
   "cell_type": "markdown",
   "metadata": {},
   "source": [
    "Generation of the animation using the transformations\n",
    "- To save animation in a movie file uncomment the lines just befor plt.show()"
   ]
  },
  {
   "cell_type": "code",
   "execution_count": null,
   "metadata": {
    "collapsed": false
   },
   "outputs": [],
   "source": [
    "# Update of the scatter plot after transformation\n",
    "def update_graph(num):\n",
    "    # Load point cloud from data frame\n",
    "    tp=np.vstack((df['x'],df['y'],df['z'],df['w']))\n",
    "    angle = num*0.01\n",
    "    # Create uniform scaling matrix \n",
    "    M = scaling_matrix([1.0,1.0,1.0])\n",
    "    # Compose M with rotation matrix\n",
    "    M = np.dot(rotation_matrix(angle, np.array([0.0,0.0,1.0])),M)\n",
    "    # Compose M with translation matrix\n",
    "    M = np.dot(translation_matrix(np.array([6.0,0.0,0.0])),M)\n",
    "    # Apply composed transformation to the point cloud\n",
    "    tp_r = np.dot(M,tp)\n",
    "    # Update scatter plot\n",
    "    graph._offsets3d = (tp_r[0,:], tp_r[1,:], tp_r[2,:])\n",
    "    return graph\n",
    "\n",
    "# 3D figure generation\n",
    "fig = plt.figure()\n",
    "ax = fig.add_subplot(111, projection='3d')\n",
    "title = ax.set_title('Teapot')\n",
    "\n",
    "# 3D scatter plot\n",
    "graph = ax.scatter(tp[0,:], tp[1,:], tp[2,:])\n",
    "# # Change axis limits if necessary\n",
    "#ax.set_xlim3d(-8, 8)\n",
    "#ax.set_ylim3d(-8, 8)\n",
    "#ax.set_zlim3d(-1, 8)\n",
    "\n",
    "# Animation function\n",
    "ani = matplotlib.animation.FuncAnimation(fig, update_graph,1000, \n",
    "                                            interval=1, blit=False)\n",
    "\n",
    "# # Set up formatting for the movie files\n",
    "# Writer = matplotlib.animation.writers['ffmpeg']\n",
    "# writer = Writer(fps=15, metadata=dict(artist='Me'), bitrate=1800)\n",
    "# # Save animation\n",
    "# ani.save('teapot.mp4', writer=writer)\n",
    "\n",
    "plt.show()"
   ]
  },
  {
   "cell_type": "code",
   "execution_count": null,
   "metadata": {
    "collapsed": true
   },
   "outputs": [],
   "source": []
  }
 ],
 "metadata": {
  "anaconda-cloud": {},
  "kernelspec": {
   "display_name": "Python [conda root]",
   "language": "python",
   "name": "conda-root-py"
  },
  "language_info": {
   "codemirror_mode": {
    "name": "ipython",
    "version": 3
   },
   "file_extension": ".py",
   "mimetype": "text/x-python",
   "name": "python",
   "nbconvert_exporter": "python",
   "pygments_lexer": "ipython3",
   "version": "3.5.2"
  },
  "toc": {
   "colors": {
    "hover_highlight": "#DAA520",
    "running_highlight": "#FF0000",
    "selected_highlight": "#FFD700"
   },
   "moveMenuLeft": true,
   "nav_menu": {
    "height": "12px",
    "width": "252px"
   },
   "navigate_menu": true,
   "number_sections": true,
   "sideBar": true,
   "threshold": 4,
   "toc_cell": false,
   "toc_section_display": "block",
   "toc_window_display": false,
   "widenNotebook": false
  }
 },
 "nbformat": 4,
 "nbformat_minor": 1
}
